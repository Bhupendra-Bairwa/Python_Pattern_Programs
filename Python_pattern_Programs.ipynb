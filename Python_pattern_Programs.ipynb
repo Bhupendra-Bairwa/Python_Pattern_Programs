{
 "cells": [
  {
   "cell_type": "code",
   "execution_count": 1,
   "id": "e3db558a-4d4f-4df1-ae4e-50488f8a9a3f",
   "metadata": {},
   "outputs": [
    {
     "name": "stdout",
     "output_type": "stream",
     "text": [
      "15 \n",
      "14 13 \n",
      "12 11 10 \n",
      "9 8 7 6 \n",
      "5 4 3 2 1 \n"
     ]
    }
   ],
   "source": [
    "num=15\n",
    "for X in range(1,6):\n",
    "    for Y in range(1,X+1):\n",
    "        print(str(num)+\" \",end=\"\")\n",
    "        num -=1\n",
    "    print()"
   ]
  },
  {
   "cell_type": "code",
   "execution_count": 3,
   "id": "654821c1-6c78-4d6c-a8c8-f68825bed2ce",
   "metadata": {},
   "outputs": [
    {
     "name": "stdout",
     "output_type": "stream",
     "text": [
      "A A A A A \n",
      "A A A A \n",
      "A A A \n",
      "A A \n",
      "A \n"
     ]
    }
   ],
   "source": [
    "for i in range(1,6):\n",
    "    for j in range(6,i,-1):\n",
    "        print(\"A\"+\" \",end=\"\")\n",
    "    print()"
   ]
  },
  {
   "cell_type": "code",
   "execution_count": 5,
   "id": "62b138bd-c0fe-4f60-a2c4-1285b9192d5d",
   "metadata": {},
   "outputs": [
    {
     "name": "stdout",
     "output_type": "stream",
     "text": [
      "A H O V ] d k \n",
      "B I P W ^ e l \n",
      "C J Q X _ f m \n",
      "D K R Y ` g n \n",
      "E L S Z a h o \n",
      "F M T [ b i p \n",
      "G N U \\ c j q \n"
     ]
    }
   ],
   "source": [
    "n=7\n",
    "for x in range(0,n):\n",
    "    for y in range(1,n+1):\n",
    "        x += n\n",
    "        print(chr(x-n+65)+\" \",end=\"\")\n",
    "    print()"
   ]
  },
  {
   "cell_type": "code",
   "execution_count": 7,
   "id": "e0e0f4d6-dc52-47c3-97a7-c41fea4fdb96",
   "metadata": {},
   "outputs": [
    {
     "name": "stdout",
     "output_type": "stream",
     "text": [
      "G N U \\ c j q \n",
      "F M T [ b i p \n",
      "E L S Z a h o \n",
      "D K R Y ` g n \n",
      "C J Q X _ f m \n",
      "B I P W ^ e l \n",
      "A H O V ] d k \n"
     ]
    }
   ],
   "source": [
    "n=7\n",
    "for x in range(1,n+1):\n",
    "    p=n-x\n",
    "    for y in range(1,n+1):\n",
    "        print(chr(p+65)+\" \",end=\"\")\n",
    "        p=p+n\n",
    "    print()"
   ]
  },
  {
   "cell_type": "code",
   "execution_count": 9,
   "id": "aa9f7bd5-0dff-47b3-bbcb-647a5ec9fdf4",
   "metadata": {},
   "outputs": [
    {
     "name": "stdin",
     "output_type": "stream",
     "text": [
      "enter the value of n 5\n"
     ]
    },
    {
     "name": "stdout",
     "output_type": "stream",
     "text": [
      "* \n",
      "* * \n",
      "* * * \n",
      "* * * * \n",
      "* * * * * \n"
     ]
    }
   ],
   "source": [
    "n=int(input(\"enter the value of n\"))\n",
    "i=1\n",
    "while(i<=n):\n",
    "    j=1\n",
    "    while(j<=i):\n",
    "        print(\"*\",end=\" \")\n",
    "        j +=1\n",
    "    print()\n",
    "    i+=1"
   ]
  },
  {
   "cell_type": "code",
   "execution_count": 11,
   "id": "8d4c0bc6-5a1c-4db4-9f37-1b9e5addfa5c",
   "metadata": {},
   "outputs": [
    {
     "name": "stdin",
     "output_type": "stream",
     "text": [
      "enter the value of n 5\n"
     ]
    },
    {
     "name": "stdout",
     "output_type": "stream",
     "text": [
      "* * * * * \n",
      "* * * * \n",
      "* * * \n",
      "* * \n",
      "* \n"
     ]
    }
   ],
   "source": [
    "n=int(input(\"enter the value of n\"))\n",
    "i=1\n",
    "while(i<=n):\n",
    "    j=n\n",
    "    while(j>=i):\n",
    "        print(\"*\",end=\" \")\n",
    "        j -=1\n",
    "    print()\n",
    "    i+=1"
   ]
  },
  {
   "cell_type": "code",
   "execution_count": 13,
   "id": "bab6ce89-2bc9-44e5-8c1b-44e717e3de15",
   "metadata": {},
   "outputs": [
    {
     "name": "stdin",
     "output_type": "stream",
     "text": [
      "enter the value of n 5\n"
     ]
    },
    {
     "name": "stdout",
     "output_type": "stream",
     "text": [
      "  1 \n",
      "  2   3 \n",
      "  4   5   6 \n",
      "  7   8   9  10 \n",
      " 11  12  13  14  15 \n"
     ]
    }
   ],
   "source": [
    "n=int(input(\"enter the value of n\"))\n",
    "k=1\n",
    "i=1\n",
    "while(i<=n):\n",
    "    j=1\n",
    "    while(j<=i):\n",
    "        print(\"{:3d}\".format(k),end=\" \")\n",
    "        j +=1\n",
    "        k +=1\n",
    "    print()\n",
    "    i+=1"
   ]
  },
  {
   "cell_type": "code",
   "execution_count": 15,
   "id": "97f34a4e-4c43-4af4-824c-f3c342e1f932",
   "metadata": {},
   "outputs": [
    {
     "name": "stdout",
     "output_type": "stream",
     "text": [
      "1\n",
      "12\n",
      "123\n",
      "1234\n",
      "12345\n",
      "12345\n",
      "1234\n",
      "123\n",
      "12\n",
      "1\n"
     ]
    }
   ],
   "source": [
    "i = 1\n",
    "while i <= 5:\n",
    "    j = 1\n",
    "    while j <= i:\n",
    "        print(j, end=\"\")\n",
    "        j += 1\n",
    "    print()\n",
    "    i += 1\n",
    "a = 5\n",
    "while a >= 1:\n",
    "    b = 1\n",
    "    while b <= a:\n",
    "        print(b, end=\"\")\n",
    "        b += 1\n",
    "    print()\n",
    "    a -= 1"
   ]
  },
  {
   "cell_type": "code",
   "execution_count": 17,
   "id": "7b4a355a-0311-49e2-a4e3-9e20cc27250e",
   "metadata": {},
   "outputs": [
    {
     "name": "stdout",
     "output_type": "stream",
     "text": [
      "        1 \n",
      "        1 2 \n",
      "        1 2 3 \n",
      "        1 2 3 4 \n",
      "        1 2 3 4 5 \n",
      "      1 2 \n",
      "    1 2 3 \n",
      "  1 2 3 4 \n",
      "1 2 3 4 5 \n"
     ]
    }
   ],
   "source": [
    "i = 1\n",
    "delta = 8\n",
    "while i <= 5:\n",
    "    j = 1\n",
    "    print(delta*\" \",end=\"\")\n",
    "    while j <= i:\n",
    "        print(j, end=\" \")\n",
    "        j += 1\n",
    "    print()\n",
    "    i += 1\n",
    "i = 2\n",
    "while i <= 5:\n",
    "    j = 1\n",
    "    delta -= 2\n",
    "    print(delta*\" \",end=\"\")\n",
    "    while j <= i:\n",
    "        print(j, end=\" \")\n",
    "        j += 1\n",
    "    print()\n",
    "    i += 1"
   ]
  },
  {
   "cell_type": "code",
   "execution_count": 19,
   "id": "1adaf8fc-2b64-49d2-b839-e6f47ddfe6c5",
   "metadata": {},
   "outputs": [
    {
     "name": "stdin",
     "output_type": "stream",
     "text": [
      "enter the value of n 7\n"
     ]
    },
    {
     "name": "stdout",
     "output_type": "stream",
     "text": [
      "*  ****\n",
      "*  *   \n",
      "*  *   \n",
      "*******\n",
      "   *  *\n",
      "   *  *\n",
      "****  *\n"
     ]
    }
   ],
   "source": [
    "n=int(input(\"enter the value of n\"))\n",
    "for i in range(1,n+1):\n",
    "    for j in range(1,n+1):\n",
    "        if(i==n//2+1 or j==n//2+1 or\n",
    "           (i==1 and j>=n//2+1) or\n",
    "          (i==n and j<=n//2) or\n",
    "          (j==1 and i<=n//2) or \n",
    "          (j==n and i>=n//2+1)):\n",
    "            print(\"*\",end=\"\")\n",
    "        else:\n",
    "            print(\" \",end=\"\")\n",
    "    print()"
   ]
  },
  {
   "cell_type": "code",
   "execution_count": 21,
   "id": "02ec67e1-5910-4e97-8b84-415d0db986c6",
   "metadata": {},
   "outputs": [
    {
     "name": "stdin",
     "output_type": "stream",
     "text": [
      "enter the value of n 5\n"
     ]
    },
    {
     "name": "stdout",
     "output_type": "stream",
     "text": [
      " **   **\n",
      "**** ****\n",
      "*********\n",
      " *******\n",
      "  *****\n",
      "   ***\n",
      "    *\n"
     ]
    }
   ],
   "source": [
    "n=int(input(\"enter the value of n\"))\n",
    "# Upper Part\n",
    "\n",
    "for x in range(n // 2, n + 1, +2): \n",
    "    for y in range(1, n - x, +2):\n",
    "        print(\" \", end=\"\")\n",
    "    for y in range(1, x + 1): \n",
    "        print(\"*\", end=\"\")\n",
    "    for y in range(1, n - x + 1):\n",
    "        print(\" \", end=\"\")\n",
    "    for y in range(1, x + 1): \n",
    "        print(\"*\", end=\"\")\n",
    "    print()\n",
    "\n",
    "# Lower Part\n",
    "\n",
    "for x in range(n, 0, -1):\n",
    "    for y in range(x, n): \n",
    "        print(\" \", end=\"\")\n",
    "    for y in range(1, (x*2)): \n",
    "        print(\"*\", end=\"\") \n",
    "    print()"
   ]
  },
  {
   "cell_type": "code",
   "execution_count": 27,
   "id": "ab5b65ac-6607-4769-bd53-3fa84d00bbd8",
   "metadata": {},
   "outputs": [
    {
     "name": "stdin",
     "output_type": "stream",
     "text": [
      "enter the value of n 7\n"
     ]
    },
    {
     "name": "stdout",
     "output_type": "stream",
     "text": [
      "* * * * * * * \n",
      " * * * * *  \n",
      "  * * *   \n",
      "   *    \n",
      "  * * *   \n",
      " * * * * *  \n",
      "* * * * * * * \n"
     ]
    }
   ],
   "source": [
    "n = int(input(\"enter the value of n\"))\n",
    "d = 1\n",
    "\n",
    "for x in range(1, n + 1):\n",
    "    for y in range(1, n + 1):\n",
    "        if (y >= d) != 0 and y <= n - d + 1:\n",
    "            print(\"* \", end=\"\")\n",
    "        else:\n",
    "            print(\" \", end=\"\") # 2ws\n",
    "            \n",
    "    if x <= n // 2:\n",
    "        d += 1\n",
    "    else:\n",
    "        d -= 1\n",
    "    print()"
   ]
  },
  {
   "cell_type": "code",
   "execution_count": null,
   "id": "878fd8a2-0594-4d19-b2ff-5c733c922992",
   "metadata": {},
   "outputs": [],
   "source": []
  }
 ],
 "metadata": {
  "kernelspec": {
   "display_name": "Python [conda env:base] *",
   "language": "python",
   "name": "conda-base-py"
  },
  "language_info": {
   "codemirror_mode": {
    "name": "ipython",
    "version": 3
   },
   "file_extension": ".py",
   "mimetype": "text/x-python",
   "name": "python",
   "nbconvert_exporter": "python",
   "pygments_lexer": "ipython3",
   "version": "3.12.7"
  }
 },
 "nbformat": 4,
 "nbformat_minor": 5
}
